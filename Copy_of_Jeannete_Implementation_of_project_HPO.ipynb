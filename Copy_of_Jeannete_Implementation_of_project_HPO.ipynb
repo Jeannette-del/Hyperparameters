{
  "nbformat": 4,
  "nbformat_minor": 0,
  "metadata": {
    "kernelspec": {
      "display_name": "Python 3",
      "language": "python",
      "name": "python3"
    },
    "language_info": {
      "codemirror_mode": {
        "name": "ipython",
        "version": 3
      },
      "file_extension": ".py",
      "mimetype": "text/x-python",
      "name": "python",
      "nbconvert_exporter": "python",
      "pygments_lexer": "ipython3",
      "version": "3.7.3"
    },
    "colab": {
      "name": "Copy of Jeannete_Implementation_of_project_HPO.ipynb",
      "provenance": [],
      "collapsed_sections": []
    }
  },
  "cells": [
    {
      "cell_type": "code",
      "metadata": {
        "colab": {
          "base_uri": "https://localhost:8080/",
          "height": 35
        },
        "id": "Glo24abpyIxi",
        "outputId": "1133e793-0920-4e7c-f5f4-ff24f39a11e9"
      },
      "source": [
        "import tensorflow as tf\n",
        "tf.test.gpu_device_name()"
      ],
      "execution_count": null,
      "outputs": [
        {
          "output_type": "execute_result",
          "data": {
            "application/vnd.google.colaboratory.intrinsic+json": {
              "type": "string"
            },
            "text/plain": [
              "''"
            ]
          },
          "metadata": {},
          "execution_count": 1
        }
      ]
    },
    {
      "cell_type": "code",
      "metadata": {
        "colab": {
          "base_uri": "https://localhost:8080/"
        },
        "id": "rZGk3EQhYJO2",
        "outputId": "cfdce5ad-828b-4acf-e7a2-12a462dfef5a"
      },
      "source": [
        "from tensorflow.python.client import device_lib\n",
        "device_lib.list_local_devices()"
      ],
      "execution_count": null,
      "outputs": [
        {
          "output_type": "execute_result",
          "data": {
            "text/plain": [
              "[name: \"/device:CPU:0\"\n",
              " device_type: \"CPU\"\n",
              " memory_limit: 268435456\n",
              " locality {\n",
              " }\n",
              " incarnation: 18316034838430988270]"
            ]
          },
          "metadata": {},
          "execution_count": 2
        }
      ]
    },
    {
      "cell_type": "code",
      "metadata": {
        "colab": {
          "base_uri": "https://localhost:8080/"
        },
        "id": "O2nmT3NgYUtO",
        "outputId": "a6581b93-3684-48bd-c6b0-32d76f62d963"
      },
      "source": [
        "!cat /proc/meminfo"
      ],
      "execution_count": null,
      "outputs": [
        {
          "output_type": "stream",
          "text": [
            "MemTotal:       13302920 kB\n",
            "MemFree:        10454344 kB\n",
            "MemAvailable:   12395312 kB\n",
            "Buffers:          122276 kB\n",
            "Cached:          1952824 kB\n",
            "SwapCached:            0 kB\n",
            "Active:          1108272 kB\n",
            "Inactive:        1493904 kB\n",
            "Active(anon):     489664 kB\n",
            "Inactive(anon):      428 kB\n",
            "Active(file):     618608 kB\n",
            "Inactive(file):  1493476 kB\n",
            "Unevictable:           0 kB\n",
            "Mlocked:               0 kB\n",
            "SwapTotal:             0 kB\n",
            "SwapFree:              0 kB\n",
            "Dirty:             15648 kB\n",
            "Writeback:             0 kB\n",
            "AnonPages:        527064 kB\n",
            "Mapped:           380448 kB\n",
            "Shmem:              1148 kB\n",
            "KReclaimable:     140928 kB\n",
            "Slab:             185116 kB\n",
            "SReclaimable:     140928 kB\n",
            "SUnreclaim:        44188 kB\n",
            "KernelStack:        4800 kB\n",
            "PageTables:         6784 kB\n",
            "NFS_Unstable:          0 kB\n",
            "Bounce:                0 kB\n",
            "WritebackTmp:          0 kB\n",
            "CommitLimit:     6651460 kB\n",
            "Committed_AS:    3230548 kB\n",
            "VmallocTotal:   34359738367 kB\n",
            "VmallocUsed:        7188 kB\n",
            "VmallocChunk:          0 kB\n",
            "Percpu:             1400 kB\n",
            "AnonHugePages:         0 kB\n",
            "ShmemHugePages:        0 kB\n",
            "ShmemPmdMapped:        0 kB\n",
            "FileHugePages:         0 kB\n",
            "FilePmdMapped:         0 kB\n",
            "CmaTotal:              0 kB\n",
            "CmaFree:               0 kB\n",
            "HugePages_Total:       0\n",
            "HugePages_Free:        0\n",
            "HugePages_Rsvd:        0\n",
            "HugePages_Surp:        0\n",
            "Hugepagesize:       2048 kB\n",
            "Hugetlb:               0 kB\n",
            "DirectMap4k:       90944 kB\n",
            "DirectMap2M:     4100096 kB\n",
            "DirectMap1G:    11534336 kB\n"
          ],
          "name": "stdout"
        }
      ]
    },
    {
      "cell_type": "markdown",
      "metadata": {
        "id": "Qp_gD6cVyIxk"
      },
      "source": [
        "# LOAD DATASET MNIST"
      ]
    },
    {
      "cell_type": "code",
      "metadata": {
        "id": "WdqtxKGuYTrP"
      },
      "source": [
        ""
      ],
      "execution_count": null,
      "outputs": []
    },
    {
      "cell_type": "code",
      "metadata": {
        "colab": {
          "base_uri": "https://localhost:8080/"
        },
        "id": "BiBWhQEwyIxl",
        "outputId": "c577da1e-7fd8-41df-c74c-5aeed6c1ae85"
      },
      "source": [
        "pip install python_mnist"
      ],
      "execution_count": 10,
      "outputs": [
        {
          "output_type": "stream",
          "text": [
            "Collecting python_mnist\n",
            "  Downloading python_mnist-0.7-py2.py3-none-any.whl (9.6 kB)\n",
            "Installing collected packages: python-mnist\n",
            "Successfully installed python-mnist-0.7\n"
          ],
          "name": "stdout"
        }
      ]
    },
    {
      "cell_type": "code",
      "metadata": {
        "colab": {
          "base_uri": "https://localhost:8080/"
        },
        "id": "3cme_YL4Qn-T",
        "outputId": "a58572b4-9456-4290-f572-3e13601774b3"
      },
      "source": [
        " pip install scikit-optimize"
      ],
      "execution_count": 11,
      "outputs": [
        {
          "output_type": "stream",
          "text": [
            "Collecting scikit-optimize\n",
            "  Downloading scikit_optimize-0.8.1-py2.py3-none-any.whl (101 kB)\n",
            "\u001b[?25l\r\u001b[K     |███▎                            | 10 kB 18.2 MB/s eta 0:00:01\r\u001b[K     |██████▌                         | 20 kB 23.6 MB/s eta 0:00:01\r\u001b[K     |█████████▊                      | 30 kB 12.6 MB/s eta 0:00:01\r\u001b[K     |█████████████                   | 40 kB 9.5 MB/s eta 0:00:01\r\u001b[K     |████████████████▏               | 51 kB 5.3 MB/s eta 0:00:01\r\u001b[K     |███████████████████▍            | 61 kB 5.2 MB/s eta 0:00:01\r\u001b[K     |██████████████████████▊         | 71 kB 5.9 MB/s eta 0:00:01\r\u001b[K     |██████████████████████████      | 81 kB 6.5 MB/s eta 0:00:01\r\u001b[K     |█████████████████████████████▏  | 92 kB 6.8 MB/s eta 0:00:01\r\u001b[K     |████████████████████████████████| 101 kB 3.4 MB/s \n",
            "\u001b[?25hRequirement already satisfied: joblib>=0.11 in /usr/local/lib/python3.7/dist-packages (from scikit-optimize) (1.0.1)\n",
            "Requirement already satisfied: scikit-learn>=0.20.0 in /usr/local/lib/python3.7/dist-packages (from scikit-optimize) (0.22.2.post1)\n",
            "Collecting pyaml>=16.9\n",
            "  Downloading pyaml-21.8.3-py2.py3-none-any.whl (17 kB)\n",
            "Requirement already satisfied: numpy>=1.13.3 in /usr/local/lib/python3.7/dist-packages (from scikit-optimize) (1.19.5)\n",
            "Requirement already satisfied: scipy>=0.19.1 in /usr/local/lib/python3.7/dist-packages (from scikit-optimize) (1.4.1)\n",
            "Requirement already satisfied: PyYAML in /usr/local/lib/python3.7/dist-packages (from pyaml>=16.9->scikit-optimize) (3.13)\n",
            "Installing collected packages: pyaml, scikit-optimize\n",
            "Successfully installed pyaml-21.8.3 scikit-optimize-0.8.1\n"
          ],
          "name": "stdout"
        }
      ]
    },
    {
      "cell_type": "code",
      "metadata": {
        "id": "DiKJXFbuyIxm",
        "colab": {
          "base_uri": "https://localhost:8080/"
        },
        "outputId": "41911c32-1dba-4b92-9cdd-512eb7fe417a"
      },
      "source": [
        "from mnist import MNIST\n",
        "import numpy as np\n",
        "import pandas as pd\n",
        "import seaborn as sns\n",
        "import matplotlib.pyplot as plt\n",
        "from sklearn.model_selection import train_test_split\n",
        "from sklearn.metrics import confusion_matrix\n",
        "from sklearn.model_selection import validation_curve\n",
        "from sklearn.model_selection import KFold\n",
        "from sklearn.model_selection import cross_val_score\n",
        "from sklearn.model_selection import GridSearchCV\n",
        "from sklearn.model_selection import RepeatedStratifiedKFold\n",
        "from sklearn.datasets import fetch_openml\n",
        "from sklearn.ensemble import RandomForestClassifier,RandomForestRegressor\n",
        "from sklearn.metrics import classification_report,confusion_matrix,accuracy_score\n",
        "from sklearn.neighbors import KNeighborsClassifier,KNeighborsRegressor\n",
        "from sklearn.linear_model import LogisticRegression\n",
        "from sklearn.preprocessing import StandardScaler\n",
        "from sklearn.linear_model.sag import sag_solver\n",
        "from sklearn import svm\n",
        "from sklearn.svm import SVC,SVR\n",
        "from sklearn import datasets\n",
        "import scipy.stats as stats\n",
        "from numpy import mean\n",
        "from numpy import std\n",
        "import skopt\n",
        "from skopt.space import Integer\n",
        "from skopt.space import Real\n",
        "from skopt.space import Categorical\n",
        "from skopt.utils import use_named_args\n",
        "from skopt import gp_minimize\n",
        "import warnings\n",
        "warnings.filterwarnings(\"ignore\")"
      ],
      "execution_count": 12,
      "outputs": [
        {
          "output_type": "stream",
          "text": [
            "/usr/local/lib/python3.7/dist-packages/sklearn/utils/deprecation.py:144: FutureWarning: The sklearn.linear_model.sag module is  deprecated in version 0.22 and will be removed in version 0.24. The corresponding classes / functions should instead be imported from sklearn.linear_model. Anything that cannot be imported from sklearn.linear_model is now part of the private API.\n",
            "  warnings.warn(message, FutureWarning)\n"
          ],
          "name": "stderr"
        }
      ]
    },
    {
      "cell_type": "code",
      "metadata": {
        "colab": {
          "base_uri": "https://localhost:8080/"
        },
        "id": "epkIRWhbJfsH",
        "outputId": "5c32f77b-6c1d-46ee-c8dc-7ff5e7769829"
      },
      "source": [
        "  pip install scikit-optimize"
      ],
      "execution_count": 13,
      "outputs": [
        {
          "output_type": "stream",
          "text": [
            "Requirement already satisfied: scikit-optimize in /usr/local/lib/python3.7/dist-packages (0.8.1)\n",
            "Requirement already satisfied: scikit-learn>=0.20.0 in /usr/local/lib/python3.7/dist-packages (from scikit-optimize) (0.22.2.post1)\n",
            "Requirement already satisfied: pyaml>=16.9 in /usr/local/lib/python3.7/dist-packages (from scikit-optimize) (21.8.3)\n",
            "Requirement already satisfied: scipy>=0.19.1 in /usr/local/lib/python3.7/dist-packages (from scikit-optimize) (1.4.1)\n",
            "Requirement already satisfied: joblib>=0.11 in /usr/local/lib/python3.7/dist-packages (from scikit-optimize) (1.0.1)\n",
            "Requirement already satisfied: numpy>=1.13.3 in /usr/local/lib/python3.7/dist-packages (from scikit-optimize) (1.19.5)\n",
            "Requirement already satisfied: PyYAML in /usr/local/lib/python3.7/dist-packages (from pyaml>=16.9->scikit-optimize) (3.13)\n"
          ],
          "name": "stdout"
        }
      ]
    },
    {
      "cell_type": "code",
      "metadata": {
        "colab": {
          "base_uri": "https://localhost:8080/"
        },
        "id": "gpyNeS6tJf27",
        "outputId": "de0e7c97-4de9-4537-a9e6-04c6286e1948"
      },
      "source": [
        "\n",
        "# # report scikit-optimize version number\n",
        "import skopt\n",
        "print('skopt %s' % skopt.__version__)"
      ],
      "execution_count": 14,
      "outputs": [
        {
          "output_type": "stream",
          "text": [
            "skopt 0.8.1\n"
          ],
          "name": "stdout"
        }
      ]
    },
    {
      "cell_type": "code",
      "metadata": {
        "colab": {
          "base_uri": "https://localhost:8080/"
        },
        "id": "a60MVaL0OMzy",
        "outputId": "4d10dc53-dee7-4032-c9d9-0a3912b9ba49"
      },
      "source": [
        "pip install scikit_learn"
      ],
      "execution_count": 15,
      "outputs": [
        {
          "output_type": "stream",
          "text": [
            "Requirement already satisfied: scikit_learn in /usr/local/lib/python3.7/dist-packages (0.22.2.post1)\n",
            "Requirement already satisfied: scipy>=0.17.0 in /usr/local/lib/python3.7/dist-packages (from scikit_learn) (1.4.1)\n",
            "Requirement already satisfied: joblib>=0.11 in /usr/local/lib/python3.7/dist-packages (from scikit_learn) (1.0.1)\n",
            "Requirement already satisfied: numpy>=1.11.0 in /usr/local/lib/python3.7/dist-packages (from scikit_learn) (1.19.5)\n"
          ],
          "name": "stdout"
        }
      ]
    },
    {
      "cell_type": "code",
      "metadata": {
        "colab": {
          "base_uri": "https://localhost:8080/"
        },
        "id": "Jg5GGSexOY_4",
        "outputId": "1861ae49-44b8-45a8-e443-091d1d6dfd1d"
      },
      "source": [
        "pip install \"scikit_learn==0.22.2.post1\""
      ],
      "execution_count": 16,
      "outputs": [
        {
          "output_type": "stream",
          "text": [
            "Requirement already satisfied: scikit_learn==0.22.2.post1 in /usr/local/lib/python3.7/dist-packages (0.22.2.post1)\n",
            "Requirement already satisfied: numpy>=1.11.0 in /usr/local/lib/python3.7/dist-packages (from scikit_learn==0.22.2.post1) (1.19.5)\n",
            "Requirement already satisfied: scipy>=0.17.0 in /usr/local/lib/python3.7/dist-packages (from scikit_learn==0.22.2.post1) (1.4.1)\n",
            "Requirement already satisfied: joblib>=0.11 in /usr/local/lib/python3.7/dist-packages (from scikit_learn==0.22.2.post1) (1.0.1)\n"
          ],
          "name": "stdout"
        }
      ]
    },
    {
      "cell_type": "markdown",
      "metadata": {
        "id": "x9abUYambdB7"
      },
      "source": [
        "#LOAD THE DATA"
      ]
    },
    {
      "cell_type": "code",
      "metadata": {
        "id": "Uqjn0VolXYhi"
      },
      "source": [
        "\n",
        "#Load dataset\n",
        "cancer = datasets.load_breast_cancer()"
      ],
      "execution_count": 66,
      "outputs": []
    },
    {
      "cell_type": "code",
      "metadata": {
        "id": "NBeODwFP-7pG"
      },
      "source": [
        ""
      ],
      "execution_count": 66,
      "outputs": []
    },
    {
      "cell_type": "code",
      "metadata": {
        "colab": {
          "base_uri": "https://localhost:8080/"
        },
        "id": "oM9mZeDeXhkk",
        "outputId": "55f173b1-8151-49d5-d3b2-320cee48bc07"
      },
      "source": [
        "# print the names of the 13 features\n",
        "print(\"Features: \", cancer.feature_names)\n",
        "\n",
        "# print the label type of cancer('malignant' 'benign')\n",
        "print(\"Labels: \", cancer.target_names)"
      ],
      "execution_count": 67,
      "outputs": [
        {
          "output_type": "stream",
          "text": [
            "Features:  ['mean radius' 'mean texture' 'mean perimeter' 'mean area'\n",
            " 'mean smoothness' 'mean compactness' 'mean concavity'\n",
            " 'mean concave points' 'mean symmetry' 'mean fractal dimension'\n",
            " 'radius error' 'texture error' 'perimeter error' 'area error'\n",
            " 'smoothness error' 'compactness error' 'concavity error'\n",
            " 'concave points error' 'symmetry error' 'fractal dimension error'\n",
            " 'worst radius' 'worst texture' 'worst perimeter' 'worst area'\n",
            " 'worst smoothness' 'worst compactness' 'worst concavity'\n",
            " 'worst concave points' 'worst symmetry' 'worst fractal dimension']\n",
            "Labels:  ['malignant' 'benign']\n"
          ],
          "name": "stdout"
        }
      ]
    },
    {
      "cell_type": "code",
      "metadata": {
        "id": "xGA0DY7l_Alh"
      },
      "source": [
        ""
      ],
      "execution_count": null,
      "outputs": []
    },
    {
      "cell_type": "code",
      "metadata": {
        "id": "3dLhlFhG_rPB"
      },
      "source": [
        ""
      ],
      "execution_count": null,
      "outputs": []
    },
    {
      "cell_type": "code",
      "metadata": {
        "colab": {
          "base_uri": "https://localhost:8080/"
        },
        "id": "6HVRxHKlXocL",
        "outputId": "34879d35-89a1-4b62-c289-19aea7c768c2"
      },
      "source": [
        "# print data(feature)shape\n",
        "cancer.data.shape,cancer.target.shape"
      ],
      "execution_count": 71,
      "outputs": [
        {
          "output_type": "execute_result",
          "data": {
            "text/plain": [
              "((569, 30), (569,))"
            ]
          },
          "metadata": {},
          "execution_count": 71
        }
      ]
    },
    {
      "cell_type": "code",
      "metadata": {
        "id": "TeshY2Qc8HQM"
      },
      "source": [
        ""
      ],
      "execution_count": null,
      "outputs": []
    },
    {
      "cell_type": "code",
      "metadata": {
        "id": "2_8DZcZrXx2T"
      },
      "source": [
        "\n",
        "# Split dataset into training set and test set\n",
        "X_train, X_test, y_train, y_test = train_test_split(cancer.data, cancer.target, test_size=0.3,random_state=109) # 70% training and 30% test\n",
        "\n"
      ],
      "execution_count": 20,
      "outputs": []
    },
    {
      "cell_type": "code",
      "metadata": {
        "id": "Xz-YiIzcYEYF"
      },
      "source": [
        "\n",
        "sc = StandardScaler()\n",
        "X_train = sc.fit_transform(X_train)\n",
        "X_test = sc.transform(X_test)"
      ],
      "execution_count": 22,
      "outputs": []
    },
    {
      "cell_type": "code",
      "metadata": {
        "colab": {
          "base_uri": "https://localhost:8080/"
        },
        "id": "Qb-fWzrXlGmN",
        "outputId": "e46c3969-040a-441a-86e9-e17ad9b536c8"
      },
      "source": [
        "X_train.shape,  X_test.shape"
      ],
      "execution_count": 23,
      "outputs": [
        {
          "output_type": "execute_result",
          "data": {
            "text/plain": [
              "((398, 30), (171, 30))"
            ]
          },
          "metadata": {},
          "execution_count": 23
        }
      ]
    },
    {
      "cell_type": "code",
      "metadata": {
        "id": "dG_gDGqq6mBj"
      },
      "source": [
        ""
      ],
      "execution_count": null,
      "outputs": []
    },
    {
      "cell_type": "code",
      "metadata": {
        "id": "HkJRNbO4J8jS"
      },
      "source": [
        ""
      ],
      "execution_count": null,
      "outputs": []
    },
    {
      "cell_type": "markdown",
      "metadata": {
        "id": "MHiRz6O8YqIL"
      },
      "source": [
        "#GRID SEARCH WITH SVM"
      ]
    },
    {
      "cell_type": "code",
      "metadata": {
        "colab": {
          "base_uri": "https://localhost:8080/"
        },
        "id": "ly25EB9kHTWc",
        "outputId": "f7e4b08c-a5fd-4757-d21b-406049925535"
      },
      "source": [
        "#svm with default hyperparameters\n",
        "import time\n",
        "start = time.time()\n",
        "clf = SVC( C=1.0, kernel='rbf', degree=3, gamma='scale', coef0=0.0)\n",
        "clf.fit(X_train,y_train)\n",
        "scores = cross_val_score(clf, X_train,y_train, cv=5,scoring='accuracy')\n",
        "print(\"Accuracy:\"+ str(scores.mean()))\n",
        "end = time.time()\n",
        "print(f\"Runtime of the program is {end - start}\")\n"
      ],
      "execution_count": 55,
      "outputs": [
        {
          "output_type": "stream",
          "text": [
            "Accuracy:0.9647784810126583\n",
            "Runtime of the program is 0.0465848445892334\n"
          ],
          "name": "stdout"
        }
      ]
    },
    {
      "cell_type": "code",
      "metadata": {
        "id": "i79xcEeTZEF9"
      },
      "source": [
        ""
      ],
      "execution_count": null,
      "outputs": []
    },
    {
      "cell_type": "code",
      "metadata": {
        "id": "OACzbApDZEUl"
      },
      "source": [
        ""
      ],
      "execution_count": null,
      "outputs": []
    },
    {
      "cell_type": "markdown",
      "metadata": {
        "id": "MxEfxsh6vNKn"
      },
      "source": [
        "# svm with tune hyperparameters using grid search"
      ]
    },
    {
      "cell_type": "code",
      "metadata": {
        "id": "evfbcOjVY1Cd"
      },
      "source": [
        ""
      ],
      "execution_count": null,
      "outputs": []
    },
    {
      "cell_type": "code",
      "metadata": {
        "id": "l6tCIPwhWeCM",
        "colab": {
          "base_uri": "https://localhost:8080/"
        },
        "outputId": "eff3cab0-6d21-4408-e54c-9e1ca66952d6"
      },
      "source": [
        "import time\n",
        "start = time.time()\n",
        "kernel = ['rbf','poly','linear','sigmoid']\n",
        "C=[1.0,1.1,5.4,170,1001]\n",
        "gamma = [0.7001, 0.008, 0.001, 3.1, 1, 1.3, 5]\n",
        "high_accuracy = 0.0\n",
        "hypers = []\n",
        "for i in C:\n",
        "  for j in gamma:\n",
        "    for k in kernel:\n",
        "      hypers.append((i,j,k))\n",
        "\n",
        "    \n",
        "print('all combinations :',hypers)\n",
        "params = {\n",
        "  'params': '',\n",
        "  'score': 0.\n",
        "}\n",
        "for k in range(len(hypers)):\n",
        "  model = SVC(C = hypers[k][0],gamma = hypers[k][1],kernel=hypers[k][2])\n",
        "  model.fit( X_train, y_train )\n",
        "  Y_pred = model.predict( X_test)\n",
        "  classified_correct = 0\n",
        "\n",
        "  for total in range(np.size(Y_pred)):\n",
        "    if y_test[total] == Y_pred[total]:\n",
        "      classified_correct = classified_correct+1\n",
        "  accuracy =(classified_correct/total)*100\n",
        "\n",
        "  if params['score'] < accuracy:\n",
        "    params['score'] = accuracy\n",
        "    params['params'] = hypers[k]\n",
        "end = time.time()\n",
        "print(f\"Runtime of the program is {end - start}\")\n",
        "\n",
        "\n"
      ],
      "execution_count": 54,
      "outputs": [
        {
          "output_type": "stream",
          "text": [
            "all combinations : [(1.0, 0.7001, 'rbf'), (1.0, 0.7001, 'poly'), (1.0, 0.7001, 'linear'), (1.0, 0.7001, 'sigmoid'), (1.0, 0.008, 'rbf'), (1.0, 0.008, 'poly'), (1.0, 0.008, 'linear'), (1.0, 0.008, 'sigmoid'), (1.0, 0.001, 'rbf'), (1.0, 0.001, 'poly'), (1.0, 0.001, 'linear'), (1.0, 0.001, 'sigmoid'), (1.0, 3.1, 'rbf'), (1.0, 3.1, 'poly'), (1.0, 3.1, 'linear'), (1.0, 3.1, 'sigmoid'), (1.0, 1, 'rbf'), (1.0, 1, 'poly'), (1.0, 1, 'linear'), (1.0, 1, 'sigmoid'), (1.0, 1.3, 'rbf'), (1.0, 1.3, 'poly'), (1.0, 1.3, 'linear'), (1.0, 1.3, 'sigmoid'), (1.0, 5, 'rbf'), (1.0, 5, 'poly'), (1.0, 5, 'linear'), (1.0, 5, 'sigmoid'), (1.1, 0.7001, 'rbf'), (1.1, 0.7001, 'poly'), (1.1, 0.7001, 'linear'), (1.1, 0.7001, 'sigmoid'), (1.1, 0.008, 'rbf'), (1.1, 0.008, 'poly'), (1.1, 0.008, 'linear'), (1.1, 0.008, 'sigmoid'), (1.1, 0.001, 'rbf'), (1.1, 0.001, 'poly'), (1.1, 0.001, 'linear'), (1.1, 0.001, 'sigmoid'), (1.1, 3.1, 'rbf'), (1.1, 3.1, 'poly'), (1.1, 3.1, 'linear'), (1.1, 3.1, 'sigmoid'), (1.1, 1, 'rbf'), (1.1, 1, 'poly'), (1.1, 1, 'linear'), (1.1, 1, 'sigmoid'), (1.1, 1.3, 'rbf'), (1.1, 1.3, 'poly'), (1.1, 1.3, 'linear'), (1.1, 1.3, 'sigmoid'), (1.1, 5, 'rbf'), (1.1, 5, 'poly'), (1.1, 5, 'linear'), (1.1, 5, 'sigmoid'), (5.4, 0.7001, 'rbf'), (5.4, 0.7001, 'poly'), (5.4, 0.7001, 'linear'), (5.4, 0.7001, 'sigmoid'), (5.4, 0.008, 'rbf'), (5.4, 0.008, 'poly'), (5.4, 0.008, 'linear'), (5.4, 0.008, 'sigmoid'), (5.4, 0.001, 'rbf'), (5.4, 0.001, 'poly'), (5.4, 0.001, 'linear'), (5.4, 0.001, 'sigmoid'), (5.4, 3.1, 'rbf'), (5.4, 3.1, 'poly'), (5.4, 3.1, 'linear'), (5.4, 3.1, 'sigmoid'), (5.4, 1, 'rbf'), (5.4, 1, 'poly'), (5.4, 1, 'linear'), (5.4, 1, 'sigmoid'), (5.4, 1.3, 'rbf'), (5.4, 1.3, 'poly'), (5.4, 1.3, 'linear'), (5.4, 1.3, 'sigmoid'), (5.4, 5, 'rbf'), (5.4, 5, 'poly'), (5.4, 5, 'linear'), (5.4, 5, 'sigmoid'), (170, 0.7001, 'rbf'), (170, 0.7001, 'poly'), (170, 0.7001, 'linear'), (170, 0.7001, 'sigmoid'), (170, 0.008, 'rbf'), (170, 0.008, 'poly'), (170, 0.008, 'linear'), (170, 0.008, 'sigmoid'), (170, 0.001, 'rbf'), (170, 0.001, 'poly'), (170, 0.001, 'linear'), (170, 0.001, 'sigmoid'), (170, 3.1, 'rbf'), (170, 3.1, 'poly'), (170, 3.1, 'linear'), (170, 3.1, 'sigmoid'), (170, 1, 'rbf'), (170, 1, 'poly'), (170, 1, 'linear'), (170, 1, 'sigmoid'), (170, 1.3, 'rbf'), (170, 1.3, 'poly'), (170, 1.3, 'linear'), (170, 1.3, 'sigmoid'), (170, 5, 'rbf'), (170, 5, 'poly'), (170, 5, 'linear'), (170, 5, 'sigmoid'), (1001, 0.7001, 'rbf'), (1001, 0.7001, 'poly'), (1001, 0.7001, 'linear'), (1001, 0.7001, 'sigmoid'), (1001, 0.008, 'rbf'), (1001, 0.008, 'poly'), (1001, 0.008, 'linear'), (1001, 0.008, 'sigmoid'), (1001, 0.001, 'rbf'), (1001, 0.001, 'poly'), (1001, 0.001, 'linear'), (1001, 0.001, 'sigmoid'), (1001, 3.1, 'rbf'), (1001, 3.1, 'poly'), (1001, 3.1, 'linear'), (1001, 3.1, 'sigmoid'), (1001, 1, 'rbf'), (1001, 1, 'poly'), (1001, 1, 'linear'), (1001, 1, 'sigmoid'), (1001, 1.3, 'rbf'), (1001, 1.3, 'poly'), (1001, 1.3, 'linear'), (1001, 1.3, 'sigmoid'), (1001, 5, 'rbf'), (1001, 5, 'poly'), (1001, 5, 'linear'), (1001, 5, 'sigmoid')]\n",
            "Runtime of the program is 1.5251293182373047\n"
          ],
          "name": "stdout"
        }
      ]
    },
    {
      "cell_type": "code",
      "metadata": {
        "colab": {
          "base_uri": "https://localhost:8080/"
        },
        "id": "xPqP_orkqHQ3",
        "outputId": "513519fb-ac92-4372-a887-55f9346148be"
      },
      "source": [
        "params"
      ],
      "execution_count": null,
      "outputs": [
        {
          "output_type": "execute_result",
          "data": {
            "text/plain": [
              "{'params': (1.0, 0.7001, 'linear'), 'score': 99.41176470588235}"
            ]
          },
          "metadata": {},
          "execution_count": 30
        }
      ]
    },
    {
      "cell_type": "markdown",
      "metadata": {
        "id": "as_tAF3KJsM_"
      },
      "source": [
        "#GRID SEACRH WITH LOGISTIC REGRESSION"
      ]
    },
    {
      "cell_type": "code",
      "metadata": {
        "colab": {
          "base_uri": "https://localhost:8080/"
        },
        "id": "vfhSSWBcWeI_",
        "outputId": "f95b6c6d-d120-4679-81ff-0a8bf48b6779"
      },
      "source": [
        "#baseline model\n",
        "import time\n",
        "start = time.time()\n",
        "\n",
        "clf = LogisticRegression()\n",
        "clf.fit(X_train, y_train)\n",
        "scores = cross_val_score(clf, X_train, y_train, cv=3,scoring='accuracy')\n",
        "print(\"Accuracy:\"+ str(scores.mean()))\n",
        "\n",
        "end = time.time()\n",
        "print(f\"Runtime of the program is {end - start}\")"
      ],
      "execution_count": 48,
      "outputs": [
        {
          "output_type": "stream",
          "text": [
            "Accuracy:0.9698108908635225\n",
            "Runtime of the program is 0.05045628547668457\n"
          ],
          "name": "stdout"
        }
      ]
    },
    {
      "cell_type": "code",
      "metadata": {
        "id": "EwzGTSGGC3XR"
      },
      "source": [
        ""
      ],
      "execution_count": 45,
      "outputs": []
    },
    {
      "cell_type": "code",
      "metadata": {
        "colab": {
          "base_uri": "https://localhost:8080/"
        },
        "id": "hJIvU2m6WeK2",
        "outputId": "f684432b-6111-4c54-f47f-c27aa09562f8"
      },
      "source": [
        "#tuning hyperparameters\n",
        "start = time.time()\n",
        "\n",
        "clf = LogisticRegression()\n",
        "params = {'C':[0.001,.009,0.01,.09,1,5,10,25],'penalty': ['l1', 'l2'],'solver' : ['newton-cg', 'lbfgs', 'liblinear', 'sag', 'saga']}\n",
        "grid= GridSearchCV(clf, params,cv=3,scoring = 'accuracy')\n",
        "grid.fit(X_train, y_train)\n",
        "print(grid.best_params_)\n",
        "print(\"Accuracy:\"+ str(grid.best_score_))\n",
        "\n",
        "end = time.time()\n",
        "print(f\"Runtime of the program is {end - start}\")"
      ],
      "execution_count": 49,
      "outputs": [
        {
          "output_type": "stream",
          "text": [
            "{'C': 1, 'penalty': 'l2', 'solver': 'saga'}\n",
            "Accuracy:0.9773296878560037\n",
            "Runtime of the program is 1.4455034732818604\n"
          ],
          "name": "stdout"
        }
      ]
    },
    {
      "cell_type": "code",
      "metadata": {
        "id": "XOYl9DsAWeNT"
      },
      "source": [
        ""
      ],
      "execution_count": null,
      "outputs": []
    },
    {
      "cell_type": "markdown",
      "metadata": {
        "id": "jHDZsZk7gGDi"
      },
      "source": [
        "# GRID SEARCH WITH KNN"
      ]
    },
    {
      "cell_type": "code",
      "metadata": {
        "id": "mtA0rl8ZWeRi",
        "colab": {
          "base_uri": "https://localhost:8080/"
        },
        "outputId": "013220e7-a99e-4969-93e4-4d03022ffd7f"
      },
      "source": [
        "#knn by defaut hyperparameters\n",
        "start = time.time()\n",
        "knn = KNeighborsClassifier()\n",
        "knn.fit(X_train, y_train)\n",
        "scores = cross_val_score(knn, X_train, y_train, cv=3,scoring='accuracy')\n",
        "print(\"Accuracy:\"+ str(scores.mean()))\n",
        "end = time.time()\n",
        "print(f\"Runtime of the program is {end - start}\")\n"
      ],
      "execution_count": 50,
      "outputs": [
        {
          "output_type": "stream",
          "text": [
            "Accuracy:0.9522670312143996\n",
            "Runtime of the program is 0.04008936882019043\n"
          ],
          "name": "stdout"
        }
      ]
    },
    {
      "cell_type": "code",
      "metadata": {
        "id": "omyseZPnWeTt",
        "colab": {
          "base_uri": "https://localhost:8080/"
        },
        "outputId": "f90d42ff-66d6-450d-8b6d-74961ff015b0"
      },
      "source": [
        "#knn by tunning hyperparamenters\n",
        "start = time.time()\n",
        "params_grid = {\"n_neighbors\": range(1, 50),'p':[1,2]}\n",
        "grid_search = GridSearchCV(knn, params_grid, cv=3, scoring='accuracy')\n",
        "grid_search.fit(X_train,y_train)\n",
        "print(grid_search.best_params_)\n",
        "print(\"Accuracy:\"+ str(grid_search.best_score_))\n",
        "end = time.time()\n",
        "print(f\"Runtime of the program is {end - start}\")\n"
      ],
      "execution_count": 51,
      "outputs": [
        {
          "output_type": "stream",
          "text": [
            "{'n_neighbors': 8, 'p': 2}\n",
            "Accuracy:0.9597668413457887\n",
            "Runtime of the program is 2.83908748626709\n"
          ],
          "name": "stdout"
        }
      ]
    },
    {
      "cell_type": "code",
      "metadata": {
        "id": "jR53y9wImUp1"
      },
      "source": [
        ""
      ],
      "execution_count": null,
      "outputs": []
    },
    {
      "cell_type": "code",
      "metadata": {
        "id": "t-SvIjFJnSnY"
      },
      "source": [
        ""
      ],
      "execution_count": null,
      "outputs": []
    }
  ]
}